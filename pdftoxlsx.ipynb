{
 "cells": [
  {
   "cell_type": "code",
   "execution_count": null,
   "metadata": {},
   "outputs": [],
   "source": [
    "from tabula import read_pdf\n",
    "import pandas as pd\n",
    "import numpy\n",
    "\n",
    "df = read_pdf(\"input.pdf\", pages='all')\n",
    "df = numpy.array(df)\n",
    "for i in range(len(df)):\n",
    "    df[i] = numpy.array(df[i])\n",
    "\n",
    "arr = []\n",
    "ans = []\n",
    "c = 0\n",
    "\n",
    "for i in range(474):\n",
    "    if(len(df[i][0]) != 11 and len(df[i][0]) != 1):\n",
    "        arr.append(df[i])\n",
    "\n",
    "for i in range(len(arr)):\n",
    "    if(arr[i][0][2][3:7] == '2080'):\n",
    "        ans.append(arr[i])\n",
    "        c = c + 1\n",
    "\n",
    "f = 'output.csv'\n",
    "\n",
    "for i in range(len(ans)):\n",
    "        d = pd.DataFrame(ans[i])\n",
    "        d.to_csv(f,mode='a',index=False)  "
   ]
  }
 ],
 "metadata": {
  "kernelspec": {
   "display_name": "Python 3",
   "language": "python",
   "name": "python3"
  },
  "language_info": {
   "codemirror_mode": {
    "name": "ipython",
    "version": 3
   },
   "file_extension": ".py",
   "mimetype": "text/x-python",
   "name": "python",
   "nbconvert_exporter": "python",
   "pygments_lexer": "ipython3",
   "version": "3.7.3"
  }
 },
 "nbformat": 4,
 "nbformat_minor": 2
}
